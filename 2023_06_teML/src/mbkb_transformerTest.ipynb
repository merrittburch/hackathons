{
 "cells": [
  {
   "cell_type": "markdown",
   "id": "f098e0d3",
   "metadata": {},
   "source": [
    "### Author.... Merritt Khaipho-Burch\n",
    "### Contact... mbb262@cornell.edu\n",
    "### Date...... 2023-06-05\n",
    "### Updated... 2023-06-05\n",
    "\n",
    "\n",
    "### Description:\n",
    "Set up nucleotide transformer model from hugging face, test it out"
   ]
  },
  {
   "cell_type": "code",
   "execution_count": 1,
   "id": "9e2b4319",
   "metadata": {},
   "outputs": [],
   "source": [
    "from transformers import AutoTokenizer, AutoModelForMaskedLM\n",
    "import torch\n",
    "#import transformers"
   ]
  },
  {
   "cell_type": "code",
   "execution_count": null,
   "id": "4af174bd-ad89-485d-b03f-5b964713ca6b",
   "metadata": {},
   "outputs": [],
   "source": []
  },
  {
   "cell_type": "code",
   "execution_count": 2,
   "id": "93bce712",
   "metadata": {},
   "outputs": [
    {
     "data": {
      "application/vnd.jupyter.widget-view+json": {
       "model_id": "0e792bd2f79b4655b3ac114e67e8f00f",
       "version_major": 2,
       "version_minor": 0
      },
      "text/plain": [
       "Loading checkpoint shards:   0%|          | 0/2 [00:00<?, ?it/s]"
      ]
     },
     "metadata": {},
     "output_type": "display_data"
    }
   ],
   "source": [
    "# Import the tokenizer and the model\n",
    "tokenizer = AutoTokenizer.from_pretrained(\"InstaDeepAI/nucleotide-transformer-2.5b-multi-species\")\n",
    "model = AutoModelForMaskedLM.from_pretrained(\"InstaDeepAI/nucleotide-transformer-2.5b-multi-species\")"
   ]
  },
  {
   "cell_type": "code",
   "execution_count": 3,
   "id": "7ed13f72",
   "metadata": {},
   "outputs": [],
   "source": [
    "# Create a dummy dna sequence and tokenize it\n",
    "sequences = ['ATTCTG' * 9]\n",
    "tokens_ids = tokenizer.batch_encode_plus(sequences, return_tensors=\"pt\")[\"input_ids\"]"
   ]
  },
  {
   "cell_type": "code",
   "execution_count": 4,
   "id": "4869d2a1",
   "metadata": {},
   "outputs": [
    {
     "name": "stdout",
     "output_type": "stream",
     "text": [
      "Embeddings shape: (1, 10, 2560)\n",
      "Embeddings per token: [[[-0.04825445  0.2141174   0.07392832 ...  0.05151255  0.01025415\n",
      "    0.21558578]\n",
      "  [-0.3665796   0.19614863  0.1792731  ...  0.42881376  0.10353133\n",
      "   -0.07980135]\n",
      "  [ 0.3379805   0.16960776 -0.03771794 ...  0.7363802  -0.5191736\n",
      "    0.2142746 ]\n",
      "  ...\n",
      "  [ 0.309885    0.47271204 -0.08401428 ...  0.72108525 -0.69447416\n",
      "    0.08498987]\n",
      "  [ 0.19159357  0.5292669  -0.13266225 ...  0.7349562  -0.63323426\n",
      "    0.02344907]\n",
      "  [ 0.20589516  0.31511945 -0.19496806 ...  0.6304218  -0.7212008\n",
      "    0.01103678]]]\n"
     ]
    }
   ],
   "source": [
    "# Compute the embeddings\n",
    "attention_mask = tokens_ids != tokenizer.pad_token_id\n",
    "torch_outs = model(\n",
    "    tokens_ids,\n",
    "    attention_mask=attention_mask,\n",
    "    encoder_attention_mask=attention_mask,\n",
    "    output_hidden_states=True\n",
    ")\n",
    "\n",
    "# Compute sequences embeddings\n",
    "embeddings = torch_outs['hidden_states'][-1].detach().numpy()\n",
    "print(f\"Embeddings shape: {embeddings.shape}\")\n",
    "print(f\"Embeddings per token: {embeddings}\")"
   ]
  },
  {
   "cell_type": "code",
   "execution_count": 5,
   "id": "f61d0ae0",
   "metadata": {},
   "outputs": [
    {
     "name": "stdout",
     "output_type": "stream",
     "text": [
      "Mean sequence embeddings: tensor([[ 0.1267,  0.4275, -0.0254,  ...,  0.5978, -0.4886,  0.0630]])\n"
     ]
    }
   ],
   "source": [
    "# Compute mean embeddings per sequence\n",
    "mean_sequence_embeddings = torch.sum(attention_mask.unsqueeze(-1)*embeddings, axis=-2)/torch.sum(attention_mask, axis=-1)\n",
    "print(f\"Mean sequence embeddings: {mean_sequence_embeddings}\")"
   ]
  }
 ],
 "metadata": {
  "kernelspec": {
   "display_name": "hugging-face",
   "language": "python",
   "name": "hugging-face"
  },
  "language_info": {
   "codemirror_mode": {
    "name": "ipython",
    "version": 3
   },
   "file_extension": ".py",
   "mimetype": "text/x-python",
   "name": "python",
   "nbconvert_exporter": "python",
   "pygments_lexer": "ipython3",
   "version": "3.11.3"
  }
 },
 "nbformat": 4,
 "nbformat_minor": 5
}
